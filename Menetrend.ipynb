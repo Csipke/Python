{
  "nbformat": 4,
  "nbformat_minor": 0,
  "metadata": {
    "colab": {
      "name": "Menetrend.ipynb",
      "provenance": [],
      "collapsed_sections": [],
      "toc_visible": true,
      "authorship_tag": "ABX9TyOuPKSwf5SbVvocu0O3BlG0",
      "include_colab_link": true
    },
    "kernelspec": {
      "name": "python3",
      "display_name": "Python 3"
    }
  },
  "cells": [
    {
      "cell_type": "markdown",
      "metadata": {
        "id": "view-in-github",
        "colab_type": "text"
      },
      "source": [
        "<a href=\"https://colab.research.google.com/github/Csipke/Python/blob/master/Menetrend.ipynb\" target=\"_parent\"><img src=\"https://colab.research.google.com/assets/colab-badge.svg\" alt=\"Open In Colab\"/></a>"
      ]
    },
    {
      "cell_type": "code",
      "metadata": {
        "id": "QegKCO7yEVJR",
        "colab_type": "code",
        "colab": {
          "base_uri": "https://localhost:8080/",
          "height": 54
        },
        "outputId": "efbee003-cd47-4721-8347-3038f876b386"
      },
      "source": [
        "# ez nem szükséges a feladat megoldásához\n",
        "# csak a CoLab-on így férek hozzá a fájljaimhoz\n",
        "\n",
        "from google.colab import drive\n",
        "drive.mount('/content/drive')"
      ],
      "execution_count": 23,
      "outputs": [
        {
          "output_type": "stream",
          "text": [
            "Drive already mounted at /content/drive; to attempt to forcibly remount, call drive.mount(\"/content/drive\", force_remount=True).\n"
          ],
          "name": "stdout"
        }
      ]
    },
    {
      "cell_type": "markdown",
      "metadata": {
        "id": "aE3m-TRDp8Va",
        "colab_type": "text"
      },
      "source": [
        "# Menetrend\n",
        "## 2020. május"
      ]
    },
    {
      "cell_type": "code",
      "metadata": {
        "id": "zcexauRIGTUC",
        "colab_type": "code",
        "colab": {}
      },
      "source": [
        "def fel(n):\n",
        "    print (f'{n}. feladat')"
      ],
      "execution_count": 24,
      "outputs": []
    },
    {
      "cell_type": "markdown",
      "metadata": {
        "id": "2VapaI8OG9q8",
        "colab_type": "text"
      },
      "source": [
        "#### 1. \n",
        "#### Olvassa be és tárolja el a vonat.txt fájl tartalmát! "
      ]
    },
    {
      "cell_type": "code",
      "metadata": {
        "id": "bDaKm5ISGkBc",
        "colab_type": "code",
        "colab": {
          "base_uri": "https://localhost:8080/",
          "height": 34
        },
        "outputId": "3fc728c5-fc4f-4379-a2c5-63f3f5ad3f41"
      },
      "source": [
        "fel(1)"
      ],
      "execution_count": 25,
      "outputs": [
        {
          "output_type": "stream",
          "text": [
            "1. feladat\n"
          ],
          "name": "stdout"
        }
      ]
    },
    {
      "cell_type": "code",
      "metadata": {
        "id": "G-dGor8Y22Yz",
        "colab_type": "code",
        "colab": {
          "base_uri": "https://localhost:8080/",
          "height": 54
        },
        "outputId": "6ddada04-5f6e-4d77-db35-04113bb8cc75"
      },
      "source": [
        "#Az adatok nevű listában fogom tárolni a forrásfájl tartalmát\n",
        "adatok = []\n",
        "\n",
        "# ha a forrásfájl és a létrehozott program ugyanabban a mappában van a PC-n\n",
        "# elég megadni a forrásfájl nevét ('vonat.txt')\n",
        "# egyébként szükséges az elérési út is\n",
        "with open('/content/drive/My Drive/Colab Notebooks/2020/vonat.txt', 'r') as f:    \n",
        "    for i in f:\n",
        "        # minden sort egy külön szótárban\n",
        "        d = {}\n",
        "        # a sor végéről eltávolítom a \\n karaktert és széttördelem a sort\n",
        "        i = i.split()\n",
        "        d['vonat'] = int(i[0])\n",
        "        d['állomás'] = int(i[1])\n",
        "        d['óra'] = int(i[2])\n",
        "        d['perc'] = int(i[3])\n",
        "        d['státusz'] = i[4]\n",
        "        # a harmadik feladatban időkülönbözetet fogunk számolni\n",
        "        # ezért egy időértéket is készítek\n",
        "        d['időérték'] = d['óra']*60 + d['perc']\n",
        "        adatok.append(d)\n",
        "# ne felejtsük el bezárni a fájlt\n",
        "f.close()\n",
        "# ellenőrzöm\n",
        "print(adatok[:3])"
      ],
      "execution_count": 26,
      "outputs": [
        {
          "output_type": "stream",
          "text": [
            "[{'vonat': 1, 'állomás': 0, 'óra': 5, 'perc': 45, 'státusz': 'I', 'időérték': 345}, {'vonat': 1, 'állomás': 1, 'óra': 6, 'perc': 0, 'státusz': 'E', 'időérték': 360}, {'vonat': 1, 'állomás': 1, 'óra': 6, 'perc': 2, 'státusz': 'I', 'időérték': 362}]\n"
          ],
          "name": "stdout"
        }
      ]
    },
    {
      "cell_type": "markdown",
      "metadata": {
        "id": "OYBEBfVRIxw9",
        "colab_type": "text"
      },
      "source": [
        "#### 2. \n",
        "#### Írja  a  képernyőre  a  fájlban  tárolt  vonatok  és  állomások  darabszámát  –  a  kezdő  és végállomást is beleértve! \n",
        "\n",
        "    Minta:\n",
        "    2. feladat\n",
        "    Az állomások száma: 11\n",
        "    A vonatok száma: 12 "
      ]
    },
    {
      "cell_type": "code",
      "metadata": {
        "id": "uOd0hpZmx2-y",
        "colab_type": "code",
        "colab": {
          "base_uri": "https://localhost:8080/",
          "height": 68
        },
        "outputId": "c14b27d9-6a20-4c05-9b63-aa4358247196"
      },
      "source": [
        "fel(2)\n",
        "\n",
        "# listába tesszük az adatokat és megkeressük a maximumot\n",
        "# Az állomások számához hozzá kell adni a 0., kiinduló állomást is\n",
        "áll_szám = max([x['állomás'] for x in adatok]) + 1\n",
        "vonat_szám = max([y['vonat'] for y in adatok])\n",
        "print(f'Az állomások száma: {áll_szám}')\n",
        "print(f'A vonatok száma: {vonat_szám}')\n"
      ],
      "execution_count": 27,
      "outputs": [
        {
          "output_type": "stream",
          "text": [
            "2. feladat\n",
            "Az állomások száma: 11\n",
            "A vonatok száma: 12\n"
          ],
          "name": "stdout"
        }
      ]
    },
    {
      "cell_type": "markdown",
      "metadata": {
        "id": "quVS-upELEy-",
        "colab_type": "text"
      },
      "source": [
        "#### 3. \n",
        "#### Határozza meg, hogy melyik állomáson állt legtöbbet vonat! Adja meg a vonat és az állomás azonosítóját, valamint az állás idejét! Ha több ilyen volt, elég csak az egyiket megadnia. \n",
        "\n",
        "    Minta: \n",
        "    3. feladat \n",
        "    A(z) 5. vonat a(z) 6. állomáson 10 percet állt. "
      ]
    },
    {
      "cell_type": "code",
      "metadata": {
        "id": "zODyd4ZCL-EH",
        "colab_type": "code",
        "colab": {
          "base_uri": "https://localhost:8080/",
          "height": 51
        },
        "outputId": "a051864c-a1d3-4023-e46f-a6ee227212b0"
      },
      "source": [
        "fel(3)\n",
        "\n",
        "# olyan adatsorokra van szükség, ahol az állomás és a vonat azonosítója ugyanaz\n",
        "# a státusz különböző (érkezik, majd indul)\n",
        "# és a két idő különbségét rögzítjük\n",
        "# végül megkeressük a maximumot\n",
        "állás = {}\n",
        "for j in adatok:\n",
        "    if (j['vonat'], j['állomás']) not in állás:\n",
        "        # először az adott vonatnak meg kell érkeznie az adott állomásra\n",
        "        if j['státusz'] == 'E':\n",
        "            # és nem a legutolsó állomásról van szó (ld. előző feladat)\n",
        "            # mert onnan már nem indul tovább \n",
        "            if j['állomás'] != áll_szám -1:\n",
        "                állás[(j['vonat'], j['állomás'])] = j['időérték']\n",
        "    # ha már ott van, akkor az új szótárban is benne van\n",
        "    # kivonjuk belőle az indulás idejét\n",
        "    else:\n",
        "        állás[(j['vonat'], j['állomás'])] -= j['időérték']\n",
        "        \n",
        "# mivel ez negatív szám lesz (az indulás > érkezés)\n",
        "# a minimumot keressük\n",
        "# vagy\n",
        "# az abszolút értékét vesszük, és aztán a maximumot\n",
        "# az utóbbi szebb, tehát azt csináljuk\n",
        "# a max(abs(érték))-hez tartozó kulcs egy tuple (vonat és állomás)\n",
        "max_állás = max(állás, key=lambda y: abs(állás[y]))\n",
        "vonat = max_állás[0]\n",
        "állomás = max_állás[1]\n",
        "# az állásidő pedig az ehhez a  kulcshoz tartozó abs(érték)\n",
        "állásidő = abs(állás[max_állás])\n",
        "print(f'A(z) {vonat}. vonat a(z) {állomás}. állomáson {állásidő} percet állt.' )\n",
        "\n"
      ],
      "execution_count": 28,
      "outputs": [
        {
          "output_type": "stream",
          "text": [
            "3. feladat\n",
            "A(z) 5. vonat a(z) 6. állomáson 10 percet állt.\n"
          ],
          "name": "stdout"
        }
      ]
    },
    {
      "cell_type": "markdown",
      "metadata": {
        "id": "24ZpaAhEgUN7",
        "colab_type": "text"
      },
      "source": [
        "#### 4. \n",
        "#### Olvassa be egy vonat azonosítóját, valamint egy időpont óra és perc értékét! \n",
        "#### A későbbi feladatokban használja ezeket! \n",
        "\n",
        "    Minta: \n",
        "    4. feladat    \n",
        "    Adja meg egy vonat azonosítóját! 2 \n",
        "    Adjon meg egy időpontot (óra perc)! 7 16"
      ]
    },
    {
      "cell_type": "code",
      "metadata": {
        "id": "Zg0yMWaphVWq",
        "colab_type": "code",
        "colab": {
          "base_uri": "https://localhost:8080/",
          "height": 85
        },
        "outputId": "be5bbac2-2385-4ab2-d2f5-8e020ba144b1"
      },
      "source": [
        "fel(4)\n",
        "# mi ezeket int-ként tároltuk, úgyhogy rögtön át is alakítjuk\n",
        "vonat_azonosító = int(input('Adja meg egy vonat azonosítóját! '))\n",
        "óra, perc = tuple(map(int, input('Adjon meg egy időpontot (óra perc)! ').split()))\n",
        "# ellenőrzés\n",
        "print(vonat_azonosító, óra, perc)"
      ],
      "execution_count": 29,
      "outputs": [
        {
          "output_type": "stream",
          "text": [
            "4. feladat\n",
            "Adja meg egy vonat azonosítóját! 2\n",
            "Adjon meg egy időpontot (óra perc)! 7 16\n",
            "2 7 16\n"
          ],
          "name": "stdout"
        }
      ]
    },
    {
      "cell_type": "markdown",
      "metadata": {
        "id": "nE21PuZ4kIVN",
        "colab_type": "text"
      },
      "source": [
        "#### 5.\n",
        "#### Ezen a vonalon az előírt menetidő 2 óra 22 perc.\n",
        "#### Írja a képernyőre, hogy a beolvasott azonosítójú vonat hány perccel tért el ettől! \n",
        "    Például: \n",
        "    „A(z) 5. vonat útja 2 perccel rövidebb volt az előírtnál.”, \n",
        "    „A(z) 5. vonat útja pontosan az előírt ideig tartott.” \n",
        "    vagy \n",
        "    „A(z) 5. vonat útja 3 perccel hosszabb volt az előírtnál.” \n",
        "\n",
        "    Minta:\n",
        "    5. feladat\n",
        "    A(z) 2. vonat útja 2 perccel hosszabb volt az előírtnál."
      ]
    },
    {
      "cell_type": "code",
      "metadata": {
        "id": "DMYk5k0XkmX7",
        "colab_type": "code",
        "colab": {
          "base_uri": "https://localhost:8080/",
          "height": 51
        },
        "outputId": "f13193c7-9c01-4d90-b6d4-000d8d0ac6b1"
      },
      "source": [
        "fel(5)\n",
        "menetidő = 2*60 + 22\n",
        "indulás = min(x['időérték'] for x in adatok if x['vonat'] == vonat_azonosító) \n",
        "érkezés = max(y['időérték'] for y in adatok if y['vonat'] == vonat_azonosító) \n",
        "út = érkezés - indulás\n",
        "\n",
        "if út > menetidő:\n",
        "    print(f'A(z) {vonat_azonosító}. vonat útja {út-menetidő} perccel hosszabb volt az előírtnál.')\n",
        "elif út < menetidő:\n",
        "    print(f'A(z) {vonat_azonosító}. vonat útja {menetidő-út} perccel rövidebb volt az előírtnál.')\n",
        "else:\n",
        "    print(f'A(z) {vonat_azonosító}. vonat útja pontosan az előírt ideig tartott.')"
      ],
      "execution_count": 30,
      "outputs": [
        {
          "output_type": "stream",
          "text": [
            "5. feladat\n",
            "A(z) 2. vonat útja 2 perccel hosszabb volt az előírtnál.\n"
          ],
          "name": "stdout"
        }
      ]
    },
    {
      "cell_type": "markdown",
      "metadata": {
        "id": "icEUmalirC4p",
        "colab_type": "text"
      },
      "source": [
        "#### 6.\n",
        "#### Írja a haladX.txt fájlba, hogy a beolvasott azonosítójú vonat melyik állomásra mikor érkezett! \n",
        "#### A fájlnévben az X helyére a beolvasott vonatazonosító kerüljön! \n",
        "\n",
        "    Minta a halad2.txt tartalmára:\n",
        "    1. állomás: 6:58 \n",
        "    2. állomás: 7:11 \n",
        "    3. állomás: 7:31 \n",
        "    4. állomás: 7:48 \n",
        "    5. állomás: 7:59 \n",
        "    6. állomás: 8:11 \n",
        "    7. állomás: 8:45 \n",
        "    8. állomás: 8:51 \n",
        "    9. állomás: 9:0 \n",
        "    10. állomás: 9:9 "
      ]
    },
    {
      "cell_type": "code",
      "metadata": {
        "id": "qYkO5iPyrT_w",
        "colab_type": "code",
        "colab": {}
      },
      "source": [
        "# normál esetben elég a halad'+ str(vonat_azonosító)+ '.txt'\n",
        "\n",
        "with open('/content/drive/My Drive/Colab Notebooks/2020/halad'+ str(vonat_azonosító)+ '.txt', 'w') as g:\n",
        "    for j in adatok:\n",
        "        if j['vonat'] == vonat_azonosító:\n",
        "            if j['státusz'] == 'E':\n",
        "                áll = j['állomás']\n",
        "                ó = j['óra']\n",
        "                p = j['perc']\n",
        "                g.write(f'{áll}. állomás: {ó}:{p}\\n')\n",
        "\n",
        "g.close()"
      ],
      "execution_count": 31,
      "outputs": []
    },
    {
      "cell_type": "markdown",
      "metadata": {
        "id": "G4E3aFCezntv",
        "colab_type": "text"
      },
      "source": [
        "#### 7.\n",
        "#### Adja meg, hogy a beolvasott időpontban úton lévő, azaz a már elindult, de a végállomást még el nem érő vonatok közül melyik hol tartott! \n",
        "    A tesztelés során a következő időpontokra érdemes figyelni: \n",
        "    6:50\n",
        "    8:45\n",
        "    9:05\n",
        "    10:04\n",
        "    10:20\n",
        "\n",
        "    Minta:\n",
        "    7. feladat \n",
        "    A(z) 1. vonat a 6. állomáson állt.\n",
        "    A(z) 2. vonat a 2. és a 3. állomás között járt."
      ]
    },
    {
      "cell_type": "markdown",
      "metadata": {
        "id": "AQ1KkFiEb8wM",
        "colab_type": "text"
      },
      "source": [
        "Készítettem egy táblázatot, hogy könnyebben ellenőrizhessük, hogy a megfelelő adatokat kaptuk-e. "
      ]
    },
    {
      "cell_type": "markdown",
      "metadata": {
        "id": "2vYjGaMGbkRY",
        "colab_type": "text"
      },
      "source": [
        "\n",
        "\n",
        "<style type=\"text/css\">\n",
        ".tg  {border-collapse:collapse;border-spacing:0;}\n",
        ".tg td{border-color:black;border-style:solid;border-width:1px;font-family:Arial, sans-serif;font-size:14px;\n",
        "  overflow:hidden;padding:10px 5px;word-break:normal;}\n",
        ".tg th{border-color:black;border-style:solid;border-width:1px;font-family:Arial, sans-serif;font-size:14px;\n",
        "  font-weight:normal;overflow:hidden;padding:10px 5px;word-break:normal;}\n",
        ".tg .tg-di1h{border-color:#656565;text-align:center;vertical-align:middle}\n",
        ".tg .tg-c4ww{background-color:#cbcefb;border-color:inherit;text-align:center;vertical-align:top}\n",
        ".tg .tg-exqi{background-color:#9b9b9b;border-color:#000000;text-align:center;vertical-align:middle}\n",
        ".tg .tg-mq91{background-color:#cbcefb;border-color:#656565;text-align:center;vertical-align:middle}\n",
        ".tg .tg-c3ow{border-color:inherit;text-align:center;vertical-align:top}\n",
        ".tg .tg-dp89{background-color:#9b9b9b;border-color:#656565;text-align:center;vertical-align:middle}\n",
        ".tg .tg-xej2{background-color:#cbcefb;border-color:inherit;text-align:left;vertical-align:middle}\n",
        ".tg .tg-xwyw{border-color:#000000;text-align:center;vertical-align:middle}\n",
        "</style>\n",
        "<table class=\"tg\">\n",
        "<thead>\n",
        "  <tr>\n",
        "    <th class=\"tg-dp89\" colspan=\"2\">vonatok</th>\n",
        "    <th class=\"tg-dp89\">1</th>\n",
        "    <th class=\"tg-dp89\">2</th>\n",
        "    <th class=\"tg-dp89\">3</th>\n",
        "    <th class=\"tg-dp89\">4</th>\n",
        "    <th class=\"tg-dp89\">5</th>\n",
        "    <th class=\"tg-exqi\">6</th>\n",
        "    <th class=\"tg-exqi\">7</th>\n",
        "    <th class=\"tg-exqi\">8</th>\n",
        "    <th class=\"tg-exqi\">9</th>\n",
        "    <th class=\"tg-exqi\">10</th>\n",
        "    <th class=\"tg-exqi\">11</th>\n",
        "    <th class=\"tg-exqi\">12</th>\n",
        "  </tr>\n",
        "</thead>\n",
        "<tbody>\n",
        "  <tr>\n",
        "    <td class=\"tg-mq91\" rowspan=\"6\">Időpontok</td>\n",
        "    <td class=\"tg-mq91\">6:50</td>\n",
        "    <td class=\"tg-di1h\">4.áll</td>\n",
        "    <td class=\"tg-di1h\">0-1.áll. között</td>\n",
        "    <td class=\"tg-di1h\">-</td>\n",
        "    <td class=\"tg-di1h\">-</td>\n",
        "    <td class=\"tg-di1h\">-</td>\n",
        "    <td class=\"tg-di1h\" colspan=\"7\" rowspan=\"6\">10:20 perc után indultak</td>\n",
        "  </tr>\n",
        "  <tr>\n",
        "    <td class=\"tg-c4ww\">7:16</td>\n",
        "    <td class=\"tg-c3ow\">6.áll</td>\n",
        "    <td class=\"tg-c3ow\">2-3. áll. között</td>\n",
        "    <td class=\"tg-c3ow\">-</td>\n",
        "    <td class=\"tg-c3ow\">-</td>\n",
        "    <td class=\"tg-c3ow\">-</td>\n",
        "  </tr>\n",
        "  <tr>\n",
        "    <td class=\"tg-xej2\">8:45</td>\n",
        "    <td class=\"tg-xwyw\">-</td>\n",
        "    <td class=\"tg-xwyw\">7. áll. </td>\n",
        "    <td class=\"tg-xwyw\">3-4. áll. között</td>\n",
        "    <td class=\"tg-xwyw\">-</td>\n",
        "    <td class=\"tg-xwyw\">-</td>\n",
        "  </tr>\n",
        "  <tr>\n",
        "    <td class=\"tg-xej2\">9:05</td>\n",
        "    <td class=\"tg-xwyw\">-</td>\n",
        "    <td class=\"tg-xwyw\">9-10. áll. között</td>\n",
        "    <td class=\"tg-xwyw\">5. áll. </td>\n",
        "    <td class=\"tg-xwyw\">1. áll.</td>\n",
        "    <td class=\"tg-xwyw\">-</td>\n",
        "  </tr>\n",
        "  <tr>\n",
        "    <td class=\"tg-xej2\">10:04</td>\n",
        "    <td class=\"tg-xwyw\">-</td>\n",
        "    <td class=\"tg-xwyw\">-</td>\n",
        "    <td class=\"tg-xwyw\">9. áll. </td>\n",
        "    <td class=\"tg-xwyw\">5. áll. </td>\n",
        "    <td class=\"tg-xwyw\">1. áll. </td>\n",
        "  </tr>\n",
        "  <tr>\n",
        "    <td class=\"tg-xej2\">10:20</td>\n",
        "    <td class=\"tg-xwyw\">-</td>\n",
        "    <td class=\"tg-xwyw\">-</td>\n",
        "    <td class=\"tg-xwyw\">-</td>\n",
        "    <td class=\"tg-xwyw\">6-7. áll. között</td>\n",
        "    <td class=\"tg-xwyw\">2-3. áll. között</td>\n",
        "  </tr>\n",
        "</tbody>\n",
        "</table>\n",
        "\n",
        "\n",
        "\n"
      ]
    },
    {
      "cell_type": "code",
      "metadata": {
        "id": "dE_aa8IYzvzD",
        "colab_type": "code",
        "colab": {
          "base_uri": "https://localhost:8080/",
          "height": 68
        },
        "outputId": "21395eaf-27d0-435e-df45-743332b29e06"
      },
      "source": [
        "fel(7)\n",
        "# Teszteléshez, hogy ne kelljen mindig bepötyögni az inputot\n",
        "# óra = 10\n",
        "# perc = 20\n",
        "\n",
        "# időértékkel számolunk\n",
        "idő = óra*60 + perc\n",
        "\n",
        "haladás = {}\n",
        "# készítünk egy szótárat arról, hogy a megadott időben, vagy annál kicsit később\n",
        "# mi hol járt éppen a vonat\n",
        "for sor in adatok:\n",
        "    # ha a vonat ideje kisebb a megadott időnél, \n",
        "    # akkor addig folytatjuk, amíg nagyobb nem lesz annál\n",
        "    # egyébként minden olyan állomást kiírna, amit már elhagyott a vonat\n",
        "    if sor['időérték'] < idő:\n",
        "        continue\n",
        "    else:\n",
        "        # ha még nem szerepel benne, akkor a szótárhoz adjuk\n",
        "        # ha szerepelne, akkor nem, mert akkor minden olyan állomást\n",
        "        # kiírna, amit a megadott idő után fog elérni a vonat\n",
        "        if sor['vonat'] not in haladás:\n",
        "            haladás[sor['vonat']] = (sor['állomás'], sor['időérték'], sor['státusz'])\n",
        "# Ellenőrzés: print(haladás)\n",
        "# {5: (3, 634, 'E'), 6: (0, 645, 'I'), 4: (7, 649, 'E'),...}\n",
        "# Python 3.6-ban már nem nagyon kell sorba rendezni, \n",
        "# de a biztonság kedvéért megtesszük (kulcs: vonat)\n",
        "for k, v in sorted(haladás.items()):\n",
        "    # a kezdő állomás nem számít (még nem indult el)\n",
        "    if v[0]  == 0:\n",
        "        break\n",
        "    else:\n",
        "        # ha a státusz 'E'\n",
        "        # és a megadott idő  kisebb a vonat idejénél, \n",
        "        # akkor a vonat még nem érkezett meg az állomásra\n",
        "        # tehát 2 állomás között jár\n",
        "        if v[2] == 'E':\n",
        "            if v[1] > idő:\n",
        "                print(f'A(z) {k}. vonat a {v[0]-1} és a {v[0]} állomás között járt.')\n",
        "            # ha nagyobb, vagy egyenlő vele, akkor az állomáson van\n",
        "            if v[1] <= idő:\n",
        "                print(f'A(z) {k}. vonat a {v[0]} állomáson állt.')\n",
        "        else:\n",
        "            # ha a státusz I\n",
        "            # és a megadott idő kisebb, vagy egyenlő a vonat idejénél\n",
        "            # akkor még nem indult el, tehát az állomáson áll\n",
        "            if v[1] >= idő:\n",
        "                print(f'A(z) {k}. vonat a {v[0]} állomáson állt.')\n"
      ],
      "execution_count": 39,
      "outputs": [
        {
          "output_type": "stream",
          "text": [
            "7. feladat\n",
            "A(z) 4. vonat a 6 és a 7 állomás között járt.\n",
            "A(z) 5. vonat a 2 és a 3 állomás között járt.\n"
          ],
          "name": "stdout"
        }
      ]
    },
    {
      "cell_type": "markdown",
      "metadata": {
        "id": "17x3ez8Q_NQ0",
        "colab_type": "text"
      },
      "source": [
        "    Végül ellenőrizzük \n",
        "    - hogy a program rendben lefutott-e\n",
        "    - a feladatok sorszámát is kiírtuk-e\n",
        "    - a megfelelő eredményeket kaptuk-e\n",
        "    - létrejött-e az output fájl (és a megfelelő adatokat tartalmazza a megfelelő formában)\n",
        "    Majd\n",
        "    - az ellenőrzéshez használt felesleges print()-ek törlése\n",
        "    - mentjük a programot\n",
        "    - megnézzük, hogy a forrásfájl, a program és a output fájl a megfelelő mappában van-e"
      ]
    }
  ]
}